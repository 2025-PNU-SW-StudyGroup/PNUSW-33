{
 "cells": [
  {
   "cell_type": "code",
   "execution_count": 13,
   "metadata": {},
   "outputs": [
    {
     "name": "stdout",
     "output_type": "stream",
     "text": [
      "{'1139490': 0, '1192948': 1, '1194042': 2, '126247': 3, '1346504': 4, '134933': 5, '135045': 6, '1462711': 7, '1462737': 8, '1564122': 9, '21038': 10, '21116': 11, '21211': 12, '22333': 13, '22973': 14, '22976': 15, '24272': 16, '24292': 17, '24322': 18, '41663': 19, '41778': 20, '41970': 21, '42007': 22, '42087': 23, '42113': 24, '46010': 25, '47067': 26, '476537': 27, '476538': 28, '48124': 29, '50186': 30, '517119': 31, '523060': 32, '528041': 33, '52884': 34, '548639': 35, '555086': 36, '555142': 37, '566513': 38, '64862': 39, '65336': 40, '65344': 41, '65349': 42, '65373': 43, '65419': 44, '65448': 45, '65547': 46, '65962': 47, '66016': 48, '66531': 49, '66578': 50, '66893': 51, '67082': 52, '67252': 53, '714022': 54, '715170': 55, '787625': 56, '81930': 57, '868458': 58, '963335': 59, 'amakin1': 60, 'amekes': 61, 'ampkin1': 62, 'anhing': 63, 'babwar': 64, 'bafibi1': 65, 'banana': 66, 'baymac': 67, 'bbwduc': 68, 'bicwre1': 69, 'bkcdon': 70, 'bkmtou1': 71, 'blbgra1': 72, 'blbwre1': 73, 'blcant4': 74, 'blchaw1': 75, 'blcjay1': 76, 'blctit1': 77, 'blhpar1': 78, 'blkvul': 79, 'bobfly1': 80, 'bobher1': 81, 'brtpar1': 82, 'bubcur1': 83, 'bubwre1': 84, 'bucmot3': 85, 'bugtan': 86, 'butsal1': 87, 'cargra1': 88, 'cattyr': 89, 'chbant1': 90, 'chfmac1': 91, 'cinbec1': 92, 'cocher1': 93, 'cocwoo1': 94, 'colara1': 95, 'colcha1': 96, 'compau': 97, 'compot1': 98, 'cotfly1': 99, 'crbtan1': 100, 'crcwoo1': 101, 'crebob1': 102, 'cregua1': 103, 'creoro1': 104, 'eardov1': 105, 'fotfly': 106, 'gohman1': 107, 'grasal4': 108, 'grbhaw1': 109, 'greani1': 110, 'greegr': 111, 'greibi1': 112, 'grekis': 113, 'grepot1': 114, 'gretin1': 115, 'grnkin': 116, 'grysee1': 117, 'gybmar': 118, 'gycwor1': 119, 'labter1': 120, 'laufal1': 121, 'leagre': 122, 'linwoo1': 123, 'littin1': 124, 'mastit1': 125, 'neocor': 126, 'norscr1': 127, 'olipic1': 128, 'orcpar': 129, 'palhor2': 130, 'paltan1': 131, 'pavpig2': 132, 'piepuf1': 133, 'pirfly1': 134, 'piwtyr1': 135, 'plbwoo1': 136, 'plctan1': 137, 'plukit1': 138, 'purgal2': 139, 'ragmac1': 140, 'rebbla1': 141, 'recwoo1': 142, 'rinkin1': 143, 'roahaw': 144, 'rosspo1': 145, 'royfly1': 146, 'rtlhum': 147, 'rubsee1': 148, 'rufmot1': 149, 'rugdov': 150, 'rumfly1': 151, 'ruther1': 152, 'rutjac1': 153, 'rutpuf1': 154, 'saffin': 155, 'sahpar1': 156, 'savhaw1': 157, 'secfly1': 158, 'shghum1': 159, 'shtfly1': 160, 'smbani': 161, 'snoegr': 162, 'sobtyr1': 163, 'socfly1': 164, 'solsan': 165, 'soulap1': 166, 'spbwoo1': 167, 'speowl1': 168, 'spepar1': 169, 'srwswa1': 170, 'stbwoo2': 171, 'strcuc1': 172, 'strfly1': 173, 'strher': 174, 'strowl1': 175, 'tbsfin1': 176, 'thbeup1': 177, 'thlsch3': 178, 'trokin': 179, 'tropar': 180, 'trsowl': 181, 'turvul': 182, 'verfly': 183, 'watjac1': 184, 'wbwwre1': 185, 'whbant1': 186, 'whbman1': 187, 'whfant1': 188, 'whmtyr1': 189, 'whtdov': 190, 'whttro1': 191, 'whwswa1': 192, 'woosto': 193, 'y00678': 194, 'yebela1': 195, 'yebfly1': 196, 'yebsee1': 197, 'yecspi2': 198, 'yectyr1': 199, 'yehbla2': 200, 'yehcar1': 201, 'yelori1': 202, 'yeofly1': 203, 'yercac1': 204, 'ywcpar': 205}\n"
     ]
    }
   ],
   "source": [
    "import os\n",
    "from tqdm import tqdm \n",
    "import re\n",
    "\n",
    "AUDIO_ROOT = './birdclef-2025/train_audio'\n",
    "\n",
    "def natural_key(s):\n",
    "    return [int(text) if text.isdigit() else text.lower() for text in re.split(r'(\\d+)', s)]\n",
    "\n",
    "\n",
    "species_list = sorted(\n",
    "    [d for d in os.listdir(AUDIO_ROOT) if os.path.isdir(os.path.join(AUDIO_ROOT, d))],\n",
    "    key=natural_key\n",
    ")\n",
    "\n",
    "# 라벨 딕셔너리\n",
    "label_dict = {}\n",
    "for species in sorted(os.listdir(AUDIO_ROOT)):\n",
    "    species_path = os.path.join(AUDIO_ROOT, species)\n",
    "    if not os.path.isdir(species_path):\n",
    "        continue\n",
    "    # 실제 .ogg 파일이 있는 폴더만 라벨로 사용\n",
    "    files = [f for f in os.listdir(species_path)]\n",
    "    if files:  # ogg 있는 폴더만\n",
    "        label_dict[species] = len(label_dict)\n",
    "\n",
    "\n",
    "print(label_dict)\n"
   ]
  },
  {
   "cell_type": "code",
   "execution_count": 14,
   "metadata": {},
   "outputs": [],
   "source": [
    "import torch\n",
    "import torchaudio\n",
    "import torchaudio.transforms as T\n",
    "from torchvision.models import vit_b_16\n",
    "from torchvision.transforms import Resize, ToTensor, Normalize, Compose\n",
    "from torch.utils.data import Dataset, DataLoader\n",
    "import os\n",
    "from PIL import Image\n",
    "import matplotlib.pyplot as plt\n",
    "import numpy as np\n",
    "\n",
    "class AudioToSpec:\n",
    "    def __init__(self, sample_rate=16000):\n",
    "        self.mel = T.MelSpectrogram(sample_rate=sample_rate, n_fft=1024, hop_length=512, n_mels=224)\n",
    "        self.db = T.AmplitudeToDB()\n",
    "        self.transforms = Compose([\n",
    "            Resize((224, 224)),  # ViT 입력 사이즈\n",
    "            ToTensor(),\n",
    "            Normalize(mean=[0.5], std=[0.5])\n",
    "        ])\n",
    "\n",
    "    def __call__(self, path):\n",
    "        wav, sr = torchaudio.load(path)\n",
    "        if wav.shape[0] > 1:\n",
    "            wav = wav.mean(0, keepdim=True)  # mono 변환\n",
    "        spec = self.db(self.mel(wav))\n",
    "        spec = spec.squeeze(0).numpy()\n",
    "        img = Image.fromarray(spec).convert('L')\n",
    "        img = self.transforms(img)\n",
    "        return img.repeat(3, 1, 1)  # [1,H,W] → [3,H,W]로 ViT 맞춤\n",
    "        \n",
    "\n",
    "class AudioSpecDataset(Dataset):\n",
    "    def __init__(self, audio_dir, labels_dict, transform):\n",
    "        self.audio_dir = audio_dir\n",
    "        self.labels_dict = labels_dict\n",
    "        self.transform = transform\n",
    "        self.file_list = []\n",
    "        for label_folder in os.listdir(audio_dir):\n",
    "            full_folder_path = os.path.join(audio_dir, label_folder)\n",
    "            if os.path.isdir(full_folder_path) and label_folder in labels_dict:\n",
    "                for f in os.listdir(full_folder_path):\n",
    "                    if f.endswith(\".ogg\"):\n",
    "                        self.file_list.append((os.path.join(full_folder_path, f), label_folder))\n",
    "\n",
    "\n",
    "\n",
    "    def __len__(self):\n",
    "        return len(self.file_list)\n",
    "\n",
    "    def __getitem__(self, idx):\n",
    "        path, label_name = self.file_list[idx]\n",
    "        label = self.labels_dict[label_name]\n",
    "        spec_img = self.transform(path)\n",
    "        return spec_img, label\n",
    "\n",
    "\n",
    "\n",
    "def get_vit_model(num_classes):\n",
    "    model = vit_b_16(pretrained=True)\n",
    "    model.heads.head = torch.nn.Linear(model.heads.head.in_features, num_classes)\n",
    "    return model\n",
    "\n",
    "def validate(model, dataloader, device, criterion):\n",
    "    model.eval()\n",
    "    val_loss = 0.0\n",
    "    correct = 0\n",
    "    total = 0\n",
    "\n",
    "    with torch.no_grad():\n",
    "        for X, y in dataloader:\n",
    "            X, y = X.to(device), y.to(device)\n",
    "            out = model(X)\n",
    "            loss = criterion(out, y)\n",
    "            val_loss += loss.item()\n",
    "\n",
    "            preds = out.argmax(dim=1)\n",
    "            correct += (preds == y).sum().item()\n",
    "            total += y.size(0)\n",
    "\n",
    "    avg_loss = val_loss / len(dataloader)\n",
    "    accuracy = correct / total\n",
    "    return avg_loss, accuracy\n",
    "\n",
    "\n",
    "\n",
    "def train(model, train_loader, val_loader, device, epoch, save_dir=\"./checkpoints\"):\n",
    "    os.makedirs(save_dir, exist_ok=True)\n",
    "\n",
    "    model.to(device)\n",
    "    optimizer = torch.optim.Adam(model.parameters(), lr=1e-3)\n",
    "    criterion = torch.nn.CrossEntropyLoss()\n",
    "    model.train()\n",
    "\n",
    "    train_losses = []\n",
    "    val_losses = []\n",
    "    val_accuracies = []\n",
    "\n",
    "    # 그래프 설정\n",
    "    plt.ion()\n",
    "    fig, ax = plt.subplots()\n",
    "    train_line, = ax.plot([], [], label=\"Train Loss\", marker='o')\n",
    "    val_line, = ax.plot([], [], label=\"Val Loss\", marker='x')\n",
    "    ax.set_title(\"Loss per Epoch\")\n",
    "    ax.set_xlabel(\"Epoch\")\n",
    "    ax.set_ylabel(\"Loss\")\n",
    "    ax.grid(True)\n",
    "    ax.legend()\n",
    "\n",
    "    for ep in range(epoch):\n",
    "        loop = tqdm(train_loader, desc=f\"[Epoch {ep+1}/{epoch}]\", leave=False)\n",
    "        running_loss = 0.0\n",
    "\n",
    "        model.train()\n",
    "        for X, y in loop:\n",
    "            X, y = X.to(device), y.to(device)\n",
    "            optimizer.zero_grad()\n",
    "            out = model(X)\n",
    "            loss = criterion(out, y)\n",
    "            loss.backward()\n",
    "            optimizer.step()\n",
    "            running_loss += loss.item()\n",
    "            loop.set_postfix(loss=loss.item())\n",
    "\n",
    "        avg_train_loss = running_loss / len(train_loader)\n",
    "        train_losses.append(avg_train_loss)\n",
    "\n",
    "        # 🔥 validation loss + acc 계산\n",
    "        avg_val_loss, val_acc = validate(model, val_loader, device, criterion)\n",
    "        val_losses.append(avg_val_loss)\n",
    "        val_accuracies.append(val_acc)\n",
    "\n",
    "        print(f\"[Epoch {ep+1}] Train Loss: {avg_train_loss:.4f} | Val Loss: {avg_val_loss:.4f} | Val Acc: {val_acc:.2%}\")\n",
    "\n",
    "        # 🔥 모델 저장\n",
    "        ckpt_path = os.path.join(save_dir, f\"epoch_{ep+1}_train_{avg_train_loss:.4f}_val_{avg_val_loss:.4f}_acc_{val_acc:.2%}.pth\")\n",
    "        torch.save(model.state_dict(), ckpt_path)\n",
    "\n",
    "        # 📈 그래프 업데이트\n",
    "        train_line.set_data(range(1, ep + 2), train_losses)\n",
    "        val_line.set_data(range(1, ep + 2), val_losses)\n",
    "        ax.relim()\n",
    "        ax.autoscale_view()\n",
    "        plt.draw()\n",
    "        plt.pause(0.01)\n",
    "\n",
    "    plt.ioff()\n",
    "    plt.show()\n",
    "\n",
    "\n",
    "from torch.utils.data import Subset\n",
    "import random\n",
    "\n",
    "def train_val_split_dataset(dataset, val_ratio=0.2, seed=42):\n",
    "    total_size = len(dataset)\n",
    "    indices = list(range(total_size))\n",
    "    random.seed(seed)\n",
    "    random.shuffle(indices)\n",
    "\n",
    "    val_size = int(total_size * val_ratio)\n",
    "    val_indices = indices[:val_size]\n",
    "    train_indices = indices[val_size:]\n",
    "\n",
    "    train_subset = Subset(dataset, train_indices)\n",
    "    val_subset = Subset(dataset, val_indices)\n",
    "    return train_subset, val_subset\n",
    "\n"
   ]
  },
  {
   "cell_type": "code",
   "execution_count": null,
   "metadata": {},
   "outputs": [
    {
     "name": "stdout",
     "output_type": "stream",
     "text": [
      "{'1139490': 0, '1192948': 1, '1194042': 2, '126247': 3, '1346504': 4, '134933': 5, '135045': 6, '1462711': 7, '1462737': 8, '1564122': 9, '21038': 10, '21116': 11, '21211': 12, '22333': 13, '22973': 14, '22976': 15, '24272': 16, '24292': 17, '24322': 18, '41663': 19, '41778': 20, '41970': 21, '42007': 22, '42087': 23, '42113': 24, '46010': 25, '47067': 26, '476537': 27, '476538': 28, '48124': 29, '50186': 30, '517119': 31, '523060': 32, '528041': 33, '52884': 34, '548639': 35, '555086': 36, '555142': 37, '566513': 38, '64862': 39, '65336': 40, '65344': 41, '65349': 42, '65373': 43, '65419': 44, '65448': 45, '65547': 46, '65962': 47, '66016': 48, '66531': 49, '66578': 50, '66893': 51, '67082': 52, '67252': 53, '714022': 54, '715170': 55, '787625': 56, '81930': 57, '868458': 58, '963335': 59, 'amakin1': 60, 'amekes': 61, 'ampkin1': 62, 'anhing': 63, 'babwar': 64, 'bafibi1': 65, 'banana': 66, 'baymac': 67, 'bbwduc': 68, 'bicwre1': 69, 'bkcdon': 70, 'bkmtou1': 71, 'blbgra1': 72, 'blbwre1': 73, 'blcant4': 74, 'blchaw1': 75, 'blcjay1': 76, 'blctit1': 77, 'blhpar1': 78, 'blkvul': 79, 'bobfly1': 80, 'bobher1': 81, 'brtpar1': 82, 'bubcur1': 83, 'bubwre1': 84, 'bucmot3': 85, 'bugtan': 86, 'butsal1': 87, 'cargra1': 88, 'cattyr': 89, 'chbant1': 90, 'chfmac1': 91, 'cinbec1': 92, 'cocher1': 93, 'cocwoo1': 94, 'colara1': 95, 'colcha1': 96, 'compau': 97, 'compot1': 98, 'cotfly1': 99, 'crbtan1': 100, 'crcwoo1': 101, 'crebob1': 102, 'cregua1': 103, 'creoro1': 104, 'eardov1': 105, 'fotfly': 106, 'gohman1': 107, 'grasal4': 108, 'grbhaw1': 109, 'greani1': 110, 'greegr': 111, 'greibi1': 112, 'grekis': 113, 'grepot1': 114, 'gretin1': 115, 'grnkin': 116, 'grysee1': 117, 'gybmar': 118, 'gycwor1': 119, 'labter1': 120, 'laufal1': 121, 'leagre': 122, 'linwoo1': 123, 'littin1': 124, 'mastit1': 125, 'neocor': 126, 'norscr1': 127, 'olipic1': 128, 'orcpar': 129, 'palhor2': 130, 'paltan1': 131, 'pavpig2': 132, 'piepuf1': 133, 'pirfly1': 134, 'piwtyr1': 135, 'plbwoo1': 136, 'plctan1': 137, 'plukit1': 138, 'purgal2': 139, 'ragmac1': 140, 'rebbla1': 141, 'recwoo1': 142, 'rinkin1': 143, 'roahaw': 144, 'rosspo1': 145, 'royfly1': 146, 'rtlhum': 147, 'rubsee1': 148, 'rufmot1': 149, 'rugdov': 150, 'rumfly1': 151, 'ruther1': 152, 'rutjac1': 153, 'rutpuf1': 154, 'saffin': 155, 'sahpar1': 156, 'savhaw1': 157, 'secfly1': 158, 'shghum1': 159, 'shtfly1': 160, 'smbani': 161, 'snoegr': 162, 'sobtyr1': 163, 'socfly1': 164, 'solsan': 165, 'soulap1': 166, 'spbwoo1': 167, 'speowl1': 168, 'spepar1': 169, 'srwswa1': 170, 'stbwoo2': 171, 'strcuc1': 172, 'strfly1': 173, 'strher': 174, 'strowl1': 175, 'tbsfin1': 176, 'thbeup1': 177, 'thlsch3': 178, 'trokin': 179, 'tropar': 180, 'trsowl': 181, 'turvul': 182, 'verfly': 183, 'watjac1': 184, 'wbwwre1': 185, 'whbant1': 186, 'whbman1': 187, 'whfant1': 188, 'whmtyr1': 189, 'whtdov': 190, 'whttro1': 191, 'whwswa1': 192, 'woosto': 193, 'y00678': 194, 'yebela1': 195, 'yebfly1': 196, 'yebsee1': 197, 'yecspi2': 198, 'yectyr1': 199, 'yehbla2': 200, 'yehcar1': 201, 'yelori1': 202, 'yeofly1': 203, 'yercac1': 204, 'ywcpar': 205}\n"
     ]
    },
    {
     "name": "stderr",
     "output_type": "stream",
     "text": [
      "                                                                           \r"
     ]
    },
    {
     "name": "stdout",
     "output_type": "stream",
     "text": [
      "[Epoch 1] Train Loss: 4.7988 | Val Loss: 4.7762 | Val Acc: 2.47%\n"
     ]
    },
    {
     "data": {
      "image/png": "[encoded data removed]",
      "text/plain": [
       "<Figure size 640x480 with 1 Axes>"
      ]
     },
     "metadata": {},
     "output_type": "display_data"
    },
    {
     "name": "stderr",
     "output_type": "stream",
     "text": [
      "                                                                           \r"
     ]
    },
    {
     "name": "stdout",
     "output_type": "stream",
     "text": [
      "[Epoch 2] Train Loss: 4.7509 | Val Loss: 4.7612 | Val Acc: 3.66%\n"
     ]
    },
    {
     "data": {
      "text/plain": [
       "<Figure size 640x480 with 0 Axes>"
      ]
     },
     "metadata": {},
     "output_type": "display_data"
    },
    {
     "name": "stderr",
     "output_type": "stream",
     "text": [
      "                                                                           \r"
     ]
    },
    {
     "name": "stdout",
     "output_type": "stream",
     "text": [
      "[Epoch 3] Train Loss: 4.7454 | Val Loss: 4.7582 | Val Acc: 3.66%\n"
     ]
    },
    {
     "data": {
      "text/plain": [
       "<Figure size 640x480 with 0 Axes>"
      ]
     },
     "metadata": {},
     "output_type": "display_data"
    },
    {
     "name": "stderr",
     "output_type": "stream",
     "text": [
      "                                                                           \r"
     ]
    },
    {
     "name": "stdout",
     "output_type": "stream",
     "text": [
      "[Epoch 4] Train Loss: 4.7439 | Val Loss: 4.7617 | Val Acc: 3.66%\n"
     ]
    },
    {
     "data": {
      "text/plain": [
       "<Figure size 640x480 with 0 Axes>"
      ]
     },
     "metadata": {},
     "output_type": "display_data"
    },
    {
     "name": "stderr",
     "output_type": "stream",
     "text": [
      "                                                                           \r"
     ]
    },
    {
     "name": "stdout",
     "output_type": "stream",
     "text": [
      "[Epoch 5] Train Loss: 4.7413 | Val Loss: 4.7569 | Val Acc: 3.66%\n"
     ]
    },
    {
     "data": {
      "text/plain": [
       "<Figure size 640x480 with 0 Axes>"
      ]
     },
     "metadata": {},
     "output_type": "display_data"
    },
    {
     "name": "stderr",
     "output_type": "stream",
     "text": [
      "                                                                           \r"
     ]
    },
    {
     "name": "stdout",
     "output_type": "stream",
     "text": [
      "[Epoch 6] Train Loss: 4.7390 | Val Loss: 4.7605 | Val Acc: 3.66%\n"
     ]
    },
    {
     "data": {
      "text/plain": [
       "<Figure size 640x480 with 0 Axes>"
      ]
     },
     "metadata": {},
     "output_type": "display_data"
    },
    {
     "name": "stderr",
     "output_type": "stream",
     "text": [
      "                                                                           \r"
     ]
    },
    {
     "name": "stdout",
     "output_type": "stream",
     "text": [
      "[Epoch 7] Train Loss: 4.7372 | Val Loss: 4.7585 | Val Acc: 3.66%\n"
     ]
    },
    {
     "data": {
      "text/plain": [
       "<Figure size 640x480 with 0 Axes>"
      ]
     },
     "metadata": {},
     "output_type": "display_data"
    },
    {
     "name": "stderr",
     "output_type": "stream",
     "text": [
      "                                                                           \r"
     ]
    },
    {
     "name": "stdout",
     "output_type": "stream",
     "text": [
      "[Epoch 8] Train Loss: 4.7355 | Val Loss: 4.7502 | Val Acc: 3.66%\n"
     ]
    },
    {
     "data": {
      "text/plain": [
       "<Figure size 640x480 with 0 Axes>"
      ]
     },
     "metadata": {},
     "output_type": "display_data"
    },
    {
     "name": "stderr",
     "output_type": "stream",
     "text": [
      "                                                                           \r"
     ]
    },
    {
     "name": "stdout",
     "output_type": "stream",
     "text": [
      "[Epoch 9] Train Loss: 4.7345 | Val Loss: 4.7494 | Val Acc: 3.66%\n"
     ]
    },
    {
     "data": {
      "text/plain": [
       "<Figure size 640x480 with 0 Axes>"
      ]
     },
     "metadata": {},
     "output_type": "display_data"
    },
    {
     "name": "stderr",
     "output_type": "stream",
     "text": [
      "                                                                            \r"
     ]
    },
    {
     "name": "stdout",
     "output_type": "stream",
     "text": [
      "[Epoch 10] Train Loss: 4.7334 | Val Loss: 4.7534 | Val Acc: 3.66%\n"
     ]
    },
    {
     "data": {
      "text/plain": [
       "<Figure size 640x480 with 0 Axes>"
      ]
     },
     "metadata": {},
     "output_type": "display_data"
    },
    {
     "name": "stderr",
     "output_type": "stream",
     "text": [
      "                                                                            \r"
     ]
    },
    {
     "name": "stdout",
     "output_type": "stream",
     "text": [
      "[Epoch 11] Train Loss: 4.7324 | Val Loss: 4.7451 | Val Acc: 2.47%\n"
     ]
    },
    {
     "data": {
      "text/plain": [
       "<Figure size 640x480 with 0 Axes>"
      ]
     },
     "metadata": {},
     "output_type": "display_data"
    },
    {
     "name": "stderr",
     "output_type": "stream",
     "text": [
      "                                                                            \r"
     ]
    },
    {
     "name": "stdout",
     "output_type": "stream",
     "text": [
      "[Epoch 12] Train Loss: 4.7315 | Val Loss: 4.7492 | Val Acc: 3.66%\n"
     ]
    },
    {
     "data": {
      "text/plain": [
       "<Figure size 640x480 with 0 Axes>"
      ]
     },
     "metadata": {},
     "output_type": "display_data"
    },
    {
     "name": "stderr",
     "output_type": "stream",
     "text": [
      "                                                                            \r"
     ]
    },
    {
     "name": "stdout",
     "output_type": "stream",
     "text": [
      "[Epoch 13] Train Loss: 4.7307 | Val Loss: 4.7507 | Val Acc: 3.66%\n"
     ]
    },
    {
     "data": {
      "text/plain": [
       "<Figure size 640x480 with 0 Axes>"
      ]
     },
     "metadata": {},
     "output_type": "display_data"
    },
    {
     "name": "stderr",
     "output_type": "stream",
     "text": [
      "                                                                            \r"
     ]
    },
    {
     "name": "stdout",
     "output_type": "stream",
     "text": [
      "[Epoch 14] Train Loss: 4.7299 | Val Loss: 4.7483 | Val Acc: 3.66%\n"
     ]
    },
    {
     "data": {
      "text/plain": [
       "<Figure size 640x480 with 0 Axes>"
      ]
     },
     "metadata": {},
     "output_type": "display_data"
    },
    {
     "name": "stderr",
     "output_type": "stream",
     "text": [
      "                                                                            \r"
     ]
    },
    {
     "name": "stdout",
     "output_type": "stream",
     "text": [
      "[Epoch 15] Train Loss: 4.7294 | Val Loss: 4.7521 | Val Acc: 3.66%\n"
     ]
    },
    {
     "data": {
      "text/plain": [
       "<Figure size 640x480 with 0 Axes>"
      ]
     },
     "metadata": {},
     "output_type": "display_data"
    },
    {
     "name": "stderr",
     "output_type": "stream",
     "text": [
      "                                                                            \r"
     ]
    },
    {
     "name": "stdout",
     "output_type": "stream",
     "text": [
      "[Epoch 16] Train Loss: 4.7297 | Val Loss: 4.7456 | Val Acc: 3.66%\n"
     ]
    },
    {
     "data": {
      "text/plain": [
       "<Figure size 640x480 with 0 Axes>"
      ]
     },
     "metadata": {},
     "output_type": "display_data"
    },
    {
     "name": "stderr",
     "output_type": "stream",
     "text": [
      "                                                                            \r"
     ]
    },
    {
     "name": "stdout",
     "output_type": "stream",
     "text": [
      "[Epoch 17] Train Loss: 4.7290 | Val Loss: 4.7463 | Val Acc: 3.66%\n"
     ]
    },
    {
     "data": {
      "text/plain": [
       "<Figure size 640x480 with 0 Axes>"
      ]
     },
     "metadata": {},
     "output_type": "display_data"
    },
    {
     "name": "stderr",
     "output_type": "stream",
     "text": [
      "                                                                            \r"
     ]
    },
    {
     "name": "stdout",
     "output_type": "stream",
     "text": [
      "[Epoch 18] Train Loss: 4.7289 | Val Loss: 4.7478 | Val Acc: 3.66%\n"
     ]
    },
    {
     "data": {
      "text/plain": [
       "<Figure size 640x480 with 0 Axes>"
      ]
     },
     "metadata": {},
     "output_type": "display_data"
    },
    {
     "name": "stderr",
     "output_type": "stream",
     "text": [
      "                                                                            \r"
     ]
    },
    {
     "name": "stdout",
     "output_type": "stream",
     "text": [
      "[Epoch 19] Train Loss: 4.7649 | Val Loss: 4.7481 | Val Acc: 3.66%\n"
     ]
    },
    {
     "data": {
      "text/plain": [
       "<Figure size 640x480 with 0 Axes>"
      ]
     },
     "metadata": {},
     "output_type": "display_data"
    },
    {
     "name": "stderr",
     "output_type": "stream",
     "text": [
      "                                                                            \r"
     ]
    },
    {
     "name": "stdout",
     "output_type": "stream",
     "text": [
      "[Epoch 20] Train Loss: 4.7301 | Val Loss: 4.7449 | Val Acc: 3.66%\n"
     ]
    },
    {
     "data": {
      "text/plain": [
       "<Figure size 640x480 with 0 Axes>"
      ]
     },
     "metadata": {},
     "output_type": "display_data"
    },
    {
     "name": "stderr",
     "output_type": "stream",
     "text": [
      "                                                                            \r"
     ]
    },
    {
     "name": "stdout",
     "output_type": "stream",
     "text": [
      "[Epoch 21] Train Loss: 4.7286 | Val Loss: 4.7521 | Val Acc: 3.66%\n"
     ]
    },
    {
     "data": {
      "text/plain": [
       "<Figure size 640x480 with 0 Axes>"
      ]
     },
     "metadata": {},
     "output_type": "display_data"
    },
    {
     "name": "stderr",
     "output_type": "stream",
     "text": [
      "                                                                            \r"
     ]
    },
    {
     "name": "stdout",
     "output_type": "stream",
     "text": [
      "[Epoch 22] Train Loss: 4.7282 | Val Loss: 4.7471 | Val Acc: 3.66%\n"
     ]
    },
    {
     "data": {
      "text/plain": [
       "<Figure size 640x480 with 0 Axes>"
      ]
     },
     "metadata": {},
     "output_type": "display_data"
    },
    {
     "name": "stderr",
     "output_type": "stream",
     "text": [
      "                                                                            \r"
     ]
    },
    {
     "name": "stdout",
     "output_type": "stream",
     "text": [
      "[Epoch 23] Train Loss: 4.7277 | Val Loss: 4.7449 | Val Acc: 2.71%\n"
     ]
    },
    {
     "data": {
      "text/plain": [
       "<Figure size 640x480 with 0 Axes>"
      ]
     },
     "metadata": {},
     "output_type": "display_data"
    },
    {
     "name": "stderr",
     "output_type": "stream",
     "text": [
      "                                                                            \r"
     ]
    },
    {
     "name": "stdout",
     "output_type": "stream",
     "text": [
      "[Epoch 24] Train Loss: 4.7263 | Val Loss: 4.7512 | Val Acc: 3.66%\n"
     ]
    },
    {
     "data": {
      "text/plain": [
       "<Figure size 640x480 with 0 Axes>"
      ]
     },
     "metadata": {},
     "output_type": "display_data"
    },
    {
     "name": "stderr",
     "output_type": "stream",
     "text": [
      "                                                                            \r"
     ]
    },
    {
     "name": "stdout",
     "output_type": "stream",
     "text": [
      "[Epoch 25] Train Loss: 4.7265 | Val Loss: 4.7487 | Val Acc: 3.66%\n"
     ]
    },
    {
     "data": {
      "text/plain": [
       "<Figure size 640x480 with 0 Axes>"
      ]
     },
     "metadata": {},
     "output_type": "display_data"
    },
    {
     "name": "stderr",
     "output_type": "stream",
     "text": [
      "                                                                            \r"
     ]
    },
    {
     "name": "stdout",
     "output_type": "stream",
     "text": [
      "[Epoch 26] Train Loss: 4.7277 | Val Loss: 4.7464 | Val Acc: 3.66%\n"
     ]
    },
    {
     "data": {
      "text/plain": [
       "<Figure size 640x480 with 0 Axes>"
      ]
     },
     "metadata": {},
     "output_type": "display_data"
    },
    {
     "name": "stderr",
     "output_type": "stream",
     "text": [
      "                                                                            \r"
     ]
    },
    {
     "name": "stdout",
     "output_type": "stream",
     "text": [
      "[Epoch 27] Train Loss: 4.7265 | Val Loss: 4.7480 | Val Acc: 3.66%\n"
     ]
    },
    {
     "data": {
      "text/plain": [
       "<Figure size 640x480 with 0 Axes>"
      ]
     },
     "metadata": {},
     "output_type": "display_data"
    },
    {
     "name": "stderr",
     "output_type": "stream",
     "text": [
      "                                                                            \r"
     ]
    },
    {
     "name": "stdout",
     "output_type": "stream",
     "text": [
      "[Epoch 28] Train Loss: 4.7268 | Val Loss: 4.7467 | Val Acc: 3.66%\n"
     ]
    },
    {
     "data": {
      "text/plain": [
       "<Figure size 640x480 with 0 Axes>"
      ]
     },
     "metadata": {},
     "output_type": "display_data"
    },
    {
     "name": "stderr",
     "output_type": "stream",
     "text": [
      "                                                                            \r"
     ]
    },
    {
     "name": "stdout",
     "output_type": "stream",
     "text": [
      "[Epoch 29] Train Loss: 4.7258 | Val Loss: 4.7481 | Val Acc: 3.66%\n"
     ]
    },
    {
     "data": {
      "text/plain": [
       "<Figure size 640x480 with 0 Axes>"
      ]
     },
     "metadata": {},
     "output_type": "display_data"
    },
    {
     "name": "stderr",
     "output_type": "stream",
     "text": [
      "                                                                            \r"
     ]
    },
    {
     "name": "stdout",
     "output_type": "stream",
     "text": [
      "[Epoch 30] Train Loss: 4.7269 | Val Loss: 4.7462 | Val Acc: 3.66%\n"
     ]
    },
    {
     "data": {
      "text/plain": [
       "<Figure size 640x480 with 0 Axes>"
      ]
     },
     "metadata": {},
     "output_type": "display_data"
    },
    {
     "name": "stderr",
     "output_type": "stream",
     "text": [
      "                                                                            \r"
     ]
    },
    {
     "name": "stdout",
     "output_type": "stream",
     "text": [
      "[Epoch 31] Train Loss: 4.7263 | Val Loss: 4.7464 | Val Acc: 3.66%\n"
     ]
    },
    {
     "data": {
      "text/plain": [
       "<Figure size 640x480 with 0 Axes>"
      ]
     },
     "metadata": {},
     "output_type": "display_data"
    },
    {
     "name": "stderr",
     "output_type": "stream",
     "text": [
      "                                                                            \r"
     ]
    },
    {
     "name": "stdout",
     "output_type": "stream",
     "text": [
      "[Epoch 32] Train Loss: 4.7263 | Val Loss: 4.7489 | Val Acc: 3.66%\n"
     ]
    },
    {
     "data": {
      "text/plain": [
       "<Figure size 640x480 with 0 Axes>"
      ]
     },
     "metadata": {},
     "output_type": "display_data"
    },
    {
     "name": "stderr",
     "output_type": "stream",
     "text": [
      "                                                                            \r"
     ]
    },
    {
     "name": "stdout",
     "output_type": "stream",
     "text": [
      "[Epoch 33] Train Loss: 4.7264 | Val Loss: 4.7469 | Val Acc: 3.66%\n"
     ]
    },
    {
     "data": {
      "text/plain": [
       "<Figure size 640x480 with 0 Axes>"
      ]
     },
     "metadata": {},
     "output_type": "display_data"
    },
    {
     "name": "stderr",
     "output_type": "stream",
     "text": [
      "                                                                            \r"
     ]
    },
    {
     "ename": "KeyboardInterrupt",
     "evalue": "",
     "output_type": "error",
     "traceback": [
      "\u001b[1;31m---------------------------------------------------------------------------\u001b[0m",
      "\u001b[1;31mKeyboardInterrupt\u001b[0m                         Traceback (most recent call last)",
      "Cell \u001b[1;32mIn[15], line 16\u001b[0m\n\u001b[0;32m     11\u001b[0m val_loader \u001b[38;5;241m=\u001b[39m DataLoader(val_dataset, batch_size\u001b[38;5;241m=\u001b[39m\u001b[38;5;241m32\u001b[39m, shuffle\u001b[38;5;241m=\u001b[39m\u001b[38;5;28;01mFalse\u001b[39;00m)\n\u001b[0;32m     14\u001b[0m model \u001b[38;5;241m=\u001b[39m get_vit_model(num_classes\u001b[38;5;241m=\u001b[39m\u001b[38;5;28mlen\u001b[39m(label_dict))\n\u001b[1;32m---> 16\u001b[0m \u001b[43mtrain\u001b[49m\u001b[43m(\u001b[49m\n\u001b[0;32m     17\u001b[0m \u001b[43m    \u001b[49m\u001b[43mmodel\u001b[49m\u001b[43m,\u001b[49m\n\u001b[0;32m     18\u001b[0m \u001b[43m    \u001b[49m\u001b[43mtrain_loader\u001b[49m\u001b[38;5;241;43m=\u001b[39;49m\u001b[43mtrain_loader\u001b[49m\u001b[43m,\u001b[49m\n\u001b[0;32m     19\u001b[0m \u001b[43m    \u001b[49m\u001b[43mval_loader\u001b[49m\u001b[38;5;241;43m=\u001b[39;49m\u001b[43mval_loader\u001b[49m\u001b[43m,\u001b[49m\n\u001b[0;32m     20\u001b[0m \u001b[43m    \u001b[49m\u001b[43mdevice\u001b[49m\u001b[38;5;241;43m=\u001b[39;49m\u001b[38;5;124;43m\"\u001b[39;49m\u001b[38;5;124;43mcuda\u001b[39;49m\u001b[38;5;124;43m\"\u001b[39;49m\u001b[43m \u001b[49m\u001b[38;5;28;43;01mif\u001b[39;49;00m\u001b[43m \u001b[49m\u001b[43mtorch\u001b[49m\u001b[38;5;241;43m.\u001b[39;49m\u001b[43mcuda\u001b[49m\u001b[38;5;241;43m.\u001b[39;49m\u001b[43mis_available\u001b[49m\u001b[43m(\u001b[49m\u001b[43m)\u001b[49m\u001b[43m \u001b[49m\u001b[38;5;28;43;01melse\u001b[39;49;00m\u001b[43m \u001b[49m\u001b[38;5;124;43m\"\u001b[39;49m\u001b[38;5;124;43mcpu\u001b[39;49m\u001b[38;5;124;43m\"\u001b[39;49m\u001b[43m,\u001b[49m\n\u001b[0;32m     21\u001b[0m \u001b[43m    \u001b[49m\u001b[43mepoch\u001b[49m\u001b[38;5;241;43m=\u001b[39;49m\u001b[38;5;241;43m100\u001b[39;49m\u001b[43m,\u001b[49m\n\u001b[0;32m     22\u001b[0m \u001b[43m    \u001b[49m\u001b[43msave_dir\u001b[49m\u001b[38;5;241;43m=\u001b[39;49m\u001b[38;5;124;43m\"\u001b[39;49m\u001b[38;5;124;43m./vit_checkpoints\u001b[39;49m\u001b[38;5;124;43m\"\u001b[39;49m\n\u001b[0;32m     23\u001b[0m \u001b[43m)\u001b[49m\n",
      "Cell \u001b[1;32mIn[14], line 129\u001b[0m, in \u001b[0;36mtrain\u001b[1;34m(model, train_loader, val_loader, device, epoch, save_dir)\u001b[0m\n\u001b[0;32m    126\u001b[0m train_losses\u001b[38;5;241m.\u001b[39mappend(avg_train_loss)\n\u001b[0;32m    128\u001b[0m \u001b[38;5;66;03m# 🔥 validation loss + acc 계산\u001b[39;00m\n\u001b[1;32m--> 129\u001b[0m avg_val_loss, val_acc \u001b[38;5;241m=\u001b[39m \u001b[43mvalidate\u001b[49m\u001b[43m(\u001b[49m\u001b[43mmodel\u001b[49m\u001b[43m,\u001b[49m\u001b[43m \u001b[49m\u001b[43mval_loader\u001b[49m\u001b[43m,\u001b[49m\u001b[43m \u001b[49m\u001b[43mdevice\u001b[49m\u001b[43m,\u001b[49m\u001b[43m \u001b[49m\u001b[43mcriterion\u001b[49m\u001b[43m)\u001b[49m\n\u001b[0;32m    130\u001b[0m val_losses\u001b[38;5;241m.\u001b[39mappend(avg_val_loss)\n\u001b[0;32m    131\u001b[0m val_accuracies\u001b[38;5;241m.\u001b[39mappend(val_acc)\n",
      "Cell \u001b[1;32mIn[14], line 75\u001b[0m, in \u001b[0;36mvalidate\u001b[1;34m(model, dataloader, device, criterion)\u001b[0m\n\u001b[0;32m     73\u001b[0m out \u001b[38;5;241m=\u001b[39m model(X)\n\u001b[0;32m     74\u001b[0m loss \u001b[38;5;241m=\u001b[39m criterion(out, y)\n\u001b[1;32m---> 75\u001b[0m val_loss \u001b[38;5;241m+\u001b[39m\u001b[38;5;241m=\u001b[39m \u001b[43mloss\u001b[49m\u001b[38;5;241;43m.\u001b[39;49m\u001b[43mitem\u001b[49m\u001b[43m(\u001b[49m\u001b[43m)\u001b[49m\n\u001b[0;32m     77\u001b[0m preds \u001b[38;5;241m=\u001b[39m out\u001b[38;5;241m.\u001b[39margmax(dim\u001b[38;5;241m=\u001b[39m\u001b[38;5;241m1\u001b[39m)\n\u001b[0;32m     78\u001b[0m correct \u001b[38;5;241m+\u001b[39m\u001b[38;5;241m=\u001b[39m (preds \u001b[38;5;241m==\u001b[39m y)\u001b[38;5;241m.\u001b[39msum()\u001b[38;5;241m.\u001b[39mitem()\n",
      "\u001b[1;31mKeyboardInterrupt\u001b[0m: "
     ]
    }
   ],
   "source": [
    "labels_dict = {f: label_dict[f] for f in os.listdir(\"./birdclef-2025/train_audio/\")}\n",
    "\n",
    "print(labels_dict)\n",
    "transform = AudioToSpec()\n",
    "\n",
    "full_dataset = AudioSpecDataset(audio_dir=\"./birdclef-2025/train_audio\", labels_dict=label_dict, transform=transform)\n",
    "\n",
    "train_dataset, val_dataset = train_val_split_dataset(full_dataset, val_ratio=0.2)\n",
    "\n",
    "train_loader = DataLoader(train_dataset, batch_size=32, shuffle=True)\n",
    "val_loader = DataLoader(val_dataset, batch_size=32, shuffle=False)\n",
    "\n",
    "\n",
    "model = get_vit_model(num_classes=len(label_dict))\n",
    "\n",
    "train(\n",
    "    model,\n",
    "    train_loader=train_loader,\n",
    "    val_loader=val_loader,\n",
    "    device=\"cuda\" if torch.cuda.is_available() else \"cpu\",\n",
    "    epoch=100,\n",
    "    save_dir=\"./vit_checkpoints\"\n",
    ")\n",
    "\n"
   ]
  }
 ],
 "metadata": {
  "kernelspec": {
   "display_name": "Python 3",
   "language": "python",
   "name": "python3"
  },
  "language_info": {
   "codemirror_mode": {
    "name": "ipython",
    "version": 3
   },
   "file_extension": ".py",
   "mimetype": "text/x-python",
   "name": "python",
   "nbconvert_exporter": "python",
   "pygments_lexer": "ipython3",
   "version": "3.10.11"
  },
  "orig_nbformat": 4
 },
 "nbformat": 4,
 "nbformat_minor": 2
}
