{
 "cells": [
  {
   "cell_type": "code",
   "execution_count": null,
   "id": "d9e1a8b4-3cb0-405f-aa9a-81224e213c78",
   "metadata": {},
   "outputs": [],
   "source": [
    "import csv\n",
    "\n",
    "INPUT_CSV = 'soundscape_predictions.csv'\n",
    "OUTPUT_CSV = 'soundscape_top1.csv'\n",
    "\n",
    "with open(INPUT_CSV, 'r', newline='') as infile, open(OUTPUT_CSV, 'w', newline='') as outfile:\n",
    "    reader = csv.reader(infile)\n",
    "    writer = csv.writer(outfile)\n",
    "\n",
    "    header = next(reader)  # 첫 줄: ['filename', 'species1', 'species2', ...]\n",
    "    species_names = header[1:]  # ['species1', 'species2', ...]\n",
    "\n",
    "    # 새 헤더 작성\n",
    "    writer.writerow(['filename', 'top_species', 'top_probability'])\n",
    "\n",
    "    for row in reader:\n",
    "        filename = row[0]\n",
    "        probs = list(map(float, row[1:]))\n",
    "\n",
    "        max_idx = probs.index(max(probs))\n",
    "        top_species = species_names[max_idx]\n",
    "        top_prob = probs[max_idx]\n",
    "\n",
    "        writer.writerow([filename, top_species, f\"{top_prob:.17f}\"])\n"
   ]
  },
  {
   "cell_type": "code",
   "execution_count": null,
   "id": "a9ca64bd-fc60-43e7-b2b6-842be383a122",
   "metadata": {},
   "outputs": [],
   "source": []
  }
 ],
 "metadata": {
  "kernelspec": {
   "display_name": "torch2.1.0",
   "language": "python",
   "name": "torch21"
  },
  "language_info": {
   "codemirror_mode": {
    "name": "ipython",
    "version": 3
   },
   "file_extension": ".py",
   "mimetype": "text/x-python",
   "name": "python",
   "nbconvert_exporter": "python",
   "pygments_lexer": "ipython3",
   "version": "3.9.21"
  }
 },
 "nbformat": 4,
 "nbformat_minor": 5
}
