{
 "cells": [
  {
   "cell_type": "code",
   "execution_count": null,
   "id": "b43d71d2",
   "metadata": {},
   "outputs": [
    {
     "name": "stdout",
     "output_type": "stream",
     "text": [
      "{'21038': 0, '21116': 1, '21211': 2, '22333': 3, '22973': 4, '22976': 5, '24272': 6, '24292': 7, '24322': 8, '41663': 9, '41778': 10, '41970': 11, '42007': 12, '42087': 13, '42113': 14, '46010': 15, '47067': 16, '48124': 17, '50186': 18, '52884': 19, '64862': 20, '65336': 21, '65344': 22, '65349': 23, '65373': 24, '65419': 25, '65448': 26, '65547': 27, '65962': 28, '66016': 29, '66531': 30, '66578': 31, '66893': 32, '67082': 33, '67252': 34, '81930': 35, '126247': 36, '134933': 37, '135045': 38, '476537': 39, '476538': 40, '517119': 41, '523060': 42, '528041': 43, '548639': 44, '555086': 45, '555142': 46, '566513': 47, '714022': 48, '715170': 49, '787625': 50, '868458': 51, '963335': 52, '1139490': 53, '1192948': 54, '1194042': 55, '1346504': 56, '1462711': 57, '1462737': 58, '1564122': 59, 'amakin1': 60, 'amekes': 61, 'ampkin1': 62, 'anhing': 63, 'babwar': 64, 'bafibi1': 65, 'banana': 66, 'baymac': 67, 'bbwduc': 68, 'bicwre1': 69, 'bkcdon': 70, 'bkmtou1': 71, 'blbgra1': 72, 'blbwre1': 73, 'blcant4': 74, 'blchaw1': 75, 'blcjay1': 76, 'blctit1': 77, 'blhpar1': 78, 'blkvul': 79, 'bobfly1': 80, 'bobher1': 81, 'brtpar1': 82, 'bubcur1': 83, 'bubwre1': 84, 'bucmot3': 85, 'bugtan': 86, 'butsal1': 87, 'cargra1': 88, 'cattyr': 89, 'chbant1': 90, 'chfmac1': 91, 'cinbec1': 92, 'cocher1': 93, 'cocwoo1': 94, 'colara1': 95, 'colcha1': 96, 'compau': 97, 'compot1': 98, 'cotfly1': 99, 'crbtan1': 100, 'crcwoo1': 101, 'crebob1': 102, 'cregua1': 103, 'creoro1': 104, 'eardov1': 105, 'fotfly': 106, 'gohman1': 107, 'grasal4': 108, 'grbhaw1': 109, 'greani1': 110, 'greegr': 111, 'greibi1': 112, 'grekis': 113, 'grepot1': 114, 'gretin1': 115, 'grnkin': 116, 'grysee1': 117, 'gybmar': 118, 'gycwor1': 119, 'labter1': 120, 'laufal1': 121, 'leagre': 122, 'linwoo1': 123, 'littin1': 124, 'mastit1': 125, 'neocor': 126, 'norscr1': 127, 'olipic1': 128, 'orcpar': 129, 'palhor2': 130, 'paltan1': 131, 'pavpig2': 132, 'piepuf1': 133, 'pirfly1': 134, 'piwtyr1': 135, 'plbwoo1': 136, 'plctan1': 137, 'plukit1': 138, 'purgal2': 139, 'ragmac1': 140, 'rebbla1': 141, 'recwoo1': 142, 'rinkin1': 143, 'roahaw': 144, 'rosspo1': 145, 'royfly1': 146, 'rtlhum': 147, 'rubsee1': 148, 'rufmot1': 149, 'rugdov': 150, 'rumfly1': 151, 'ruther1': 152, 'rutjac1': 153, 'rutpuf1': 154, 'saffin': 155, 'sahpar1': 156, 'savhaw1': 157, 'secfly1': 158, 'shghum1': 159, 'shtfly1': 160, 'smbani': 161, 'snoegr': 162, 'sobtyr1': 163, 'socfly1': 164, 'solsan': 165, 'soulap1': 166, 'spbwoo1': 167, 'speowl1': 168, 'spepar1': 169, 'srwswa1': 170, 'stbwoo2': 171, 'strcuc1': 172, 'strfly1': 173, 'strher': 174, 'strowl1': 175, 'tbsfin1': 176, 'thbeup1': 177, 'thlsch3': 178, 'trokin': 179, 'tropar': 180, 'trsowl': 181, 'turvul': 182, 'verfly': 183, 'watjac1': 184, 'wbwwre1': 185, 'whbant1': 186, 'whbman1': 187, 'whfant1': 188, 'whmtyr1': 189, 'whtdov': 190, 'whttro1': 191, 'whwswa1': 192, 'woosto': 193, 'y00678': 194, 'yebela1': 195, 'yebfly1': 196, 'yebsee1': 197, 'yecspi2': 198, 'yectyr1': 199, 'yehbla2': 200, 'yehcar1': 201, 'yelori1': 202, 'yeofly1': 203, 'yercac1': 204, 'ywcpar': 205}\n",
      "b'\\x80\\x04\\x950\\t\\x00\\x00\\x00\\x00\\x00\\x00}\\x94(\\x8c\\x0521038\\x94K\\x00\\x8c\\x0521116\\x94K\\x01\\x8c\\x0521211\\x94K\\x02\\x8c\\x0522333\\x94K\\x03\\x8c\\x0522973\\x94K\\x04\\x8c\\x0522976\\x94K\\x05\\x8c\\x0524272\\x94K\\x06\\x8c\\x0524292\\x94K\\x07\\x8c\\x0524322\\x94K\\x08\\x8c\\x0541663\\x94K\\t\\x8c\\x0541778\\x94K\\n\\x8c\\x0541970\\x94K\\x0b\\x8c\\x0542007\\x94K\\x0c\\x8c\\x0542087\\x94K\\r\\x8c\\x0542113\\x94K\\x0e\\x8c\\x0546010\\x94K\\x0f\\x8c\\x0547067\\x94K\\x10\\x8c\\x0548124\\x94K\\x11\\x8c\\x0550186\\x94K\\x12\\x8c\\x0552884\\x94K\\x13\\x8c\\x0564862\\x94K\\x14\\x8c\\x0565336\\x94K\\x15\\x8c\\x0565344\\x94K\\x16\\x8c\\x0565349\\x94K\\x17\\x8c\\x0565373\\x94K\\x18\\x8c\\x0565419\\x94K\\x19\\x8c\\x0565448\\x94K\\x1a\\x8c\\x0565547\\x94K\\x1b\\x8c\\x0565962\\x94K\\x1c\\x8c\\x0566016\\x94K\\x1d\\x8c\\x0566531\\x94K\\x1e\\x8c\\x0566578\\x94K\\x1f\\x8c\\x0566893\\x94K \\x8c\\x0567082\\x94K!\\x8c\\x0567252\\x94K\"\\x8c\\x0581930\\x94K#\\x8c\\x06126247\\x94K$\\x8c\\x06134933\\x94K%\\x8c\\x06135045\\x94K&\\x8c\\x06476537\\x94K\\'\\x8c\\x06476538\\x94K(\\x8c\\x06517119\\x94K)\\x8c\\x06523060\\x94K*\\x8c\\x06528041\\x94K+\\x8c\\x06548639\\x94K,\\x8c\\x06555086\\x94K-\\x8c\\x06555142\\x94K.\\x8c\\x06566513\\x94K/\\x8c\\x06714022\\x94K0\\x8c\\x06715170\\x94K1\\x8c\\x06787625\\x94K2\\x8c\\x06868458\\x94K3\\x8c\\x06963335\\x94K4\\x8c\\x071139490\\x94K5\\x8c\\x071192948\\x94K6\\x8c\\x071194042\\x94K7\\x8c\\x071346504\\x94K8\\x8c\\x071462711\\x94K9\\x8c\\x071462737\\x94K:\\x8c\\x071564122\\x94K;\\x8c\\x07amakin1\\x94K<\\x8c\\x06amekes\\x94K=\\x8c\\x07ampkin1\\x94K>\\x8c\\x06anhing\\x94K?\\x8c\\x06babwar\\x94K@\\x8c\\x07bafibi1\\x94KA\\x8c\\x06banana\\x94KB\\x8c\\x06baymac\\x94KC\\x8c\\x06bbwduc\\x94KD\\x8c\\x07bicwre1\\x94KE\\x8c\\x06bkcdon\\x94KF\\x8c\\x07bkmtou1\\x94KG\\x8c\\x07blbgra1\\x94KH\\x8c\\x07blbwre1\\x94KI\\x8c\\x07blcant4\\x94KJ\\x8c\\x07blchaw1\\x94KK\\x8c\\x07blcjay1\\x94KL\\x8c\\x07blctit1\\x94KM\\x8c\\x07blhpar1\\x94KN\\x8c\\x06blkvul\\x94KO\\x8c\\x07bobfly1\\x94KP\\x8c\\x07bobher1\\x94KQ\\x8c\\x07brtpar1\\x94KR\\x8c\\x07bubcur1\\x94KS\\x8c\\x07bubwre1\\x94KT\\x8c\\x07bucmot3\\x94KU\\x8c\\x06bugtan\\x94KV\\x8c\\x07butsal1\\x94KW\\x8c\\x07cargra1\\x94KX\\x8c\\x06cattyr\\x94KY\\x8c\\x07chbant1\\x94KZ\\x8c\\x07chfmac1\\x94K[\\x8c\\x07cinbec1\\x94K\\\\\\x8c\\x07cocher1\\x94K]\\x8c\\x07cocwoo1\\x94K^\\x8c\\x07colara1\\x94K_\\x8c\\x07colcha1\\x94K`\\x8c\\x06compau\\x94Ka\\x8c\\x07compot1\\x94Kb\\x8c\\x07cotfly1\\x94Kc\\x8c\\x07crbtan1\\x94Kd\\x8c\\x07crcwoo1\\x94Ke\\x8c\\x07crebob1\\x94Kf\\x8c\\x07cregua1\\x94Kg\\x8c\\x07creoro1\\x94Kh\\x8c\\x07eardov1\\x94Ki\\x8c\\x06fotfly\\x94Kj\\x8c\\x07gohman1\\x94Kk\\x8c\\x07grasal4\\x94Kl\\x8c\\x07grbhaw1\\x94Km\\x8c\\x07greani1\\x94Kn\\x8c\\x06greegr\\x94Ko\\x8c\\x07greibi1\\x94Kp\\x8c\\x06grekis\\x94Kq\\x8c\\x07grepot1\\x94Kr\\x8c\\x07gretin1\\x94Ks\\x8c\\x06grnkin\\x94Kt\\x8c\\x07grysee1\\x94Ku\\x8c\\x06gybmar\\x94Kv\\x8c\\x07gycwor1\\x94Kw\\x8c\\x07labter1\\x94Kx\\x8c\\x07laufal1\\x94Ky\\x8c\\x06leagre\\x94Kz\\x8c\\x07linwoo1\\x94K{\\x8c\\x07littin1\\x94K|\\x8c\\x07mastit1\\x94K}\\x8c\\x06neocor\\x94K~\\x8c\\x07norscr1\\x94K\\x7f\\x8c\\x07olipic1\\x94K\\x80\\x8c\\x06orcpar\\x94K\\x81\\x8c\\x07palhor2\\x94K\\x82\\x8c\\x07paltan1\\x94K\\x83\\x8c\\x07pavpig2\\x94K\\x84\\x8c\\x07piepuf1\\x94K\\x85\\x8c\\x07pirfly1\\x94K\\x86\\x8c\\x07piwtyr1\\x94K\\x87\\x8c\\x07plbwoo1\\x94K\\x88\\x8c\\x07plctan1\\x94K\\x89\\x8c\\x07plukit1\\x94K\\x8a\\x8c\\x07purgal2\\x94K\\x8b\\x8c\\x07ragmac1\\x94K\\x8c\\x8c\\x07rebbla1\\x94K\\x8d\\x8c\\x07recwoo1\\x94K\\x8e\\x8c\\x07rinkin1\\x94K\\x8f\\x8c\\x06roahaw\\x94K\\x90\\x8c\\x07rosspo1\\x94K\\x91\\x8c\\x07royfly1\\x94K\\x92\\x8c\\x06rtlhum\\x94K\\x93\\x8c\\x07rubsee1\\x94K\\x94\\x8c\\x07rufmot1\\x94K\\x95\\x8c\\x06rugdov\\x94K\\x96\\x8c\\x07rumfly1\\x94K\\x97\\x8c\\x07ruther1\\x94K\\x98\\x8c\\x07rutjac1\\x94K\\x99\\x8c\\x07rutpuf1\\x94K\\x9a\\x8c\\x06saffin\\x94K\\x9b\\x8c\\x07sahpar1\\x94K\\x9c\\x8c\\x07savhaw1\\x94K\\x9d\\x8c\\x07secfly1\\x94K\\x9e\\x8c\\x07shghum1\\x94K\\x9f\\x8c\\x07shtfly1\\x94K\\xa0\\x8c\\x06smbani\\x94K\\xa1\\x8c\\x06snoegr\\x94K\\xa2\\x8c\\x07sobtyr1\\x94K\\xa3\\x8c\\x07socfly1\\x94K\\xa4\\x8c\\x06solsan\\x94K\\xa5\\x8c\\x07soulap1\\x94K\\xa6\\x8c\\x07spbwoo1\\x94K\\xa7\\x8c\\x07speowl1\\x94K\\xa8\\x8c\\x07spepar1\\x94K\\xa9\\x8c\\x07srwswa1\\x94K\\xaa\\x8c\\x07stbwoo2\\x94K\\xab\\x8c\\x07strcuc1\\x94K\\xac\\x8c\\x07strfly1\\x94K\\xad\\x8c\\x06strher\\x94K\\xae\\x8c\\x07strowl1\\x94K\\xaf\\x8c\\x07tbsfin1\\x94K\\xb0\\x8c\\x07thbeup1\\x94K\\xb1\\x8c\\x07thlsch3\\x94K\\xb2\\x8c\\x06trokin\\x94K\\xb3\\x8c\\x06tropar\\x94K\\xb4\\x8c\\x06trsowl\\x94K\\xb5\\x8c\\x06turvul\\x94K\\xb6\\x8c\\x06verfly\\x94K\\xb7\\x8c\\x07watjac1\\x94K\\xb8\\x8c\\x07wbwwre1\\x94K\\xb9\\x8c\\x07whbant1\\x94K\\xba\\x8c\\x07whbman1\\x94K\\xbb\\x8c\\x07whfant1\\x94K\\xbc\\x8c\\x07whmtyr1\\x94K\\xbd\\x8c\\x06whtdov\\x94K\\xbe\\x8c\\x07whttro1\\x94K\\xbf\\x8c\\x07whwswa1\\x94K\\xc0\\x8c\\x06woosto\\x94K\\xc1\\x8c\\x06y00678\\x94K\\xc2\\x8c\\x07yebela1\\x94K\\xc3\\x8c\\x07yebfly1\\x94K\\xc4\\x8c\\x07yebsee1\\x94K\\xc5\\x8c\\x07yecspi2\\x94K\\xc6\\x8c\\x07yectyr1\\x94K\\xc7\\x8c\\x07yehbla2\\x94K\\xc8\\x8c\\x07yehcar1\\x94K\\xc9\\x8c\\x07yelori1\\x94K\\xca\\x8c\\x07yeofly1\\x94K\\xcb\\x8c\\x07yercac1\\x94K\\xcc\\x8c\\x06ywcpar\\x94K\\xcdu.'\n"
     ]
    }
   ],
   "source": [
    "import os\n",
    "import csv\n",
    "import pickle\n",
    "import re\n",
    "\n",
    "AUDIO_ROOT = 'D:/Download/birdclef-2025/train_audio'\n",
    "\n",
    "def natural_key(s):\n",
    "    return [int(text) if text.isdigit() else text.lower() for text in re.split(r'(\\d+)', s)]\n",
    "\n",
    "\n",
    "species_list = sorted(\n",
    "    [d for d in os.listdir(AUDIO_ROOT) if os.path.isdir(os.path.join(AUDIO_ROOT, d))],\n",
    "    key=natural_key\n",
    ")\n",
    "\n",
    "# 라벨 딕셔너리\n",
    "label_dict = {species: idx for idx, species in enumerate(species_list)}\n",
    "\n",
    "# 저장\n",
    "with open('class_to_label.pkl', 'wb') as f:\n",
    "    pickle.dump(label_dict, f)\n",
    "\n",
    "with open('class_to_label.csv', 'w', newline='') as csvfile:\n",
    "    writer = csv.writer(csvfile)\n",
    "    writer.writerow(['species', 'label'])\n",
    "    for species, label in label_dict.items():\n",
    "        writer.writerow([species, label])\n",
    "\n",
    "print(label_dict)\n",
    "print(pickle.dumps(label_dict))  # 딕셔너리의 바이너리 형태 출력\n"
   ]
  }
 ],
 "metadata": {
  "kernelspec": {
   "display_name": "birdclef2025",
   "language": "python",
   "name": "python3"
  },
  "language_info": {
   "codemirror_mode": {
    "name": "ipython",
    "version": 3
   },
   "file_extension": ".py",
   "mimetype": "text/x-python",
   "name": "python",
   "nbconvert_exporter": "python",
   "pygments_lexer": "ipython3",
   "version": "3.10.16"
  }
 },
 "nbformat": 4,
 "nbformat_minor": 5
}
