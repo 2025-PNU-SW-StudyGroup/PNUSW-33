{
 "cells": [
  {
   "cell_type": "code",
   "execution_count": null,
   "id": "85d5d4f7-b495-4984-91d3-0e13e0ee65c2",
   "metadata": {},
   "outputs": [],
   "source": [
    "import os\n",
    "import librosa\n",
    "import numpy as np\n",
    "from PIL import Image\n",
    "\n",
    "INPUT_DIR = './birdclef-2025/train_soundscapes'\n",
    "OUTPUT_DIR = './soundscape_melspec_images'\n",
    "os.makedirs(OUTPUT_DIR, exist_ok=True)\n",
    "\n",
    "def audio_to_melspec_image(audio_path, sr=32000, duration=5, hop_length=512, n_mels=128):\n",
    "    y, _ = librosa.load(audio_path, sr=sr, mono=True, duration=duration)\n",
    "    melspec = librosa.feature.melspectrogram(y=y, sr=sr, n_mels=n_mels, hop_length=hop_length)\n",
    "    melspec_db = librosa.power_to_db(melspec, ref=np.max)\n",
    "    melspec_norm = (melspec_db - melspec_db.min()) / (melspec_db.max() - melspec_db.min()) * 255\n",
    "    img = Image.fromarray(melspec_norm.astype(np.uint8)).convert(\"RGB\")\n",
    "    return img\n",
    "\n",
    "for fname in os.listdir(INPUT_DIR):\n",
    "    if not fname.endswith('.ogg'):\n",
    "        continue\n",
    "    try:\n",
    "        in_path = os.path.join(INPUT_DIR, fname)\n",
    "        img = audio_to_melspec_image(in_path)\n",
    "        out_path = os.path.join(OUTPUT_DIR, fname.replace('.ogg', '.png'))\n",
    "        img.save(out_path)\n",
    "        print(f\"Saved: {out_path}\")\n",
    "    except Exception as e:\n",
    "        print(f\"Error processing {fname}: {e}\")"
   ]
  },
  {
   "cell_type": "code",
   "execution_count": null,
   "id": "a9acee88-393e-4076-a13d-be5f47d8d1f8",
   "metadata": {},
   "outputs": [],
   "source": []
  }
 ],
 "metadata": {
  "kernelspec": {
   "display_name": "VoiceSaparate",
   "language": "python",
   "name": "spleeter"
  },
  "language_info": {
   "codemirror_mode": {
    "name": "ipython",
    "version": 3
   },
   "file_extension": ".py",
   "mimetype": "text/x-python",
   "name": "python",
   "nbconvert_exporter": "python",
   "pygments_lexer": "ipython3",
   "version": "3.9.21"
  }
 },
 "nbformat": 4,
 "nbformat_minor": 5
}
