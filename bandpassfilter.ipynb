{
 "cells": [
  {
   "cell_type": "code",
   "execution_count": 1,
   "id": "42f28610",
   "metadata": {},
   "outputs": [],
   "source": [
    "import os\n",
    "import soundfile as sf\n",
    "import numpy as np\n",
    "from scipy.signal import butter, sosfilt\n",
    "\n",
    "def bandpass_filter(data, samplerate, lowcut, highcut, order=5):\n",
    "    sos = butter(order, [lowcut, highcut], btype='band', fs=samplerate, output='sos')\n",
    "    return sosfilt(sos, data)\n",
    "\n",
    "def filter_ogg(input_folder, lowcut=1000.0, highcut=8000.0, order=5):\n",
    "    base_folder = os.path.dirname(input_folder)\n",
    "    folder_name = os.path.basename(input_folder.rstrip(\"/\\\\\"))\n",
    "    output_folder = os.path.join(base_folder, folder_name + \"_filtered\")\n",
    "\n",
    "    if not os.path.exists(output_folder):\n",
    "        os.makedirs(output_folder)\n",
    "\n",
    "    for filename in os.listdir(input_folder):\n",
    "        if filename.lower().endswith(\".ogg\"):\n",
    "            in_path = os.path.join(input_folder, filename)\n",
    "            out_path = os.path.join(output_folder, filename)\n",
    "\n",
    "            try:\n",
    "                data, sr = sf.read(in_path)\n",
    "                if len(data.shape) == 2:\n",
    "                    data = data.mean(axis=1)\n",
    "                filtered_data = bandpass_filter(data, sr, lowcut, highcut, order)\n",
    "                sf.write(out_path, filtered_data, sr)\n",
    "                print(f\"✔️ 필터링 완료: {filename}\")\n",
    "            except Exception as e:\n",
    "                print(f\"❌ 오류 발생 ({filename}): {e}\")\n",
    "\n",
    "    print(f\"\\n📁 필터링된 파일 저장 경로: {output_folder}\")\n",
    "    return output_folder\n"
   ]
  },
  {
   "cell_type": "code",
   "execution_count": 3,
   "id": "54f8b873",
   "metadata": {},
   "outputs": [
    {
     "name": "stdout",
     "output_type": "stream",
     "text": [
      "✔️ 필터링 완료: iNat297879.ogg\n"
     ]
    },
    {
     "ename": "",
     "evalue": "",
     "output_type": "error",
     "traceback": [
      "\u001b[1;31mThe Kernel crashed while executing code in the current cell or a previous cell. \n",
      "\u001b[1;31mPlease review the code in the cell(s) to identify a possible cause of the failure. \n",
      "\u001b[1;31mClick <a href='https://aka.ms/vscodeJupyterKernelCrash'>here</a> for more info. \n",
      "\u001b[1;31mView Jupyter <a href='command:jupyter.viewOutput'>log</a> for further details."
     ]
    }
   ],
   "source": [
    "input_folder = \"birdclef-2025//train_audio//21038\"\n",
    "filter_ogg(input_folder, lowcut=2000.0, highcut=4000.0, order=5)"
   ]
  }
 ],
 "metadata": {
  "kernelspec": {
   "display_name": "Python 3",
   "language": "python",
   "name": "python3"
  },
  "language_info": {
   "codemirror_mode": {
    "name": "ipython",
    "version": 3
   },
   "file_extension": ".py",
   "mimetype": "text/x-python",
   "name": "python",
   "nbconvert_exporter": "python",
   "pygments_lexer": "ipython3",
   "version": "3.9.21"
  }
 },
 "nbformat": 4,
 "nbformat_minor": 5
}
